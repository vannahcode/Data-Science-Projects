{
 "cells": [
  {
   "cell_type": "markdown",
   "metadata": {},
   "source": [
    "#### Frida Kahlo Portfolio Project (Codecademy)"
   ]
  },
  {
   "cell_type": "code",
   "execution_count": 13,
   "metadata": {},
   "outputs": [],
   "source": [
    "paintings = ['The Two Fridas'], ['My Dress Hangs Here'], ['Tree of Hope'], ['Self Portrait with Monkeys']"
   ]
  },
  {
   "cell_type": "code",
   "execution_count": 14,
   "metadata": {},
   "outputs": [],
   "source": [
    "dates = ['1939', '1933', '1946', '1940']\n",
    "\n",
    "#created lists of paintings and dates."
   ]
  },
  {
   "cell_type": "code",
   "execution_count": 15,
   "metadata": {},
   "outputs": [],
   "source": [
    "paintings = zip(paintings, dates)\n",
    "\n",
    "#created a zipped object combining the two lists."
   ]
  },
  {
   "cell_type": "code",
   "execution_count": 16,
   "metadata": {},
   "outputs": [],
   "source": [
    "paintings = (list(paintings))\n",
    "\n",
    "#converted object into list."
   ]
  },
  {
   "cell_type": "code",
   "execution_count": 17,
   "metadata": {},
   "outputs": [
    {
     "name": "stdout",
     "output_type": "stream",
     "text": [
      "[(['The Two Fridas'], '1939'), (['My Dress Hangs Here'], '1933'), (['Tree of Hope'], '1946'), (['Self Portrait with Monkeys'], '1940')]\n"
     ]
    }
   ],
   "source": [
    "print(paintings)"
   ]
  },
  {
   "cell_type": "code",
   "execution_count": 18,
   "metadata": {},
   "outputs": [],
   "source": [
    "painting_1 = ('The Broken Column', '1944')"
   ]
  },
  {
   "cell_type": "code",
   "execution_count": 19,
   "metadata": {},
   "outputs": [],
   "source": [
    "paintings.append(painting_1)"
   ]
  },
  {
   "cell_type": "code",
   "execution_count": 20,
   "metadata": {},
   "outputs": [
    {
     "name": "stdout",
     "output_type": "stream",
     "text": [
      "[(['The Two Fridas'], '1939'), (['My Dress Hangs Here'], '1933'), (['Tree of Hope'], '1946'), (['Self Portrait with Monkeys'], '1940'), ('The Broken Column', '1944')]\n"
     ]
    }
   ],
   "source": [
    "print(paintings)"
   ]
  },
  {
   "cell_type": "code",
   "execution_count": 21,
   "metadata": {},
   "outputs": [],
   "source": [
    "painting_2 = ('The Wounded Deer', '1946')\n",
    "painting_3 = ('Me and My Doll', '1937')"
   ]
  },
  {
   "cell_type": "code",
   "execution_count": 22,
   "metadata": {},
   "outputs": [],
   "source": [
    "paintings.append(painting_2)\n",
    "paintings.append(painting_3)"
   ]
  },
  {
   "cell_type": "code",
   "execution_count": 23,
   "metadata": {},
   "outputs": [
    {
     "name": "stdout",
     "output_type": "stream",
     "text": [
      "[(['The Two Fridas'], '1939'), (['My Dress Hangs Here'], '1933'), (['Tree of Hope'], '1946'), (['Self Portrait with Monkeys'], '1940'), ('The Broken Column', '1944'), ('The Wounded Deer', '1946'), ('Me and My Doll', '1937')]\n"
     ]
    }
   ],
   "source": [
    "print(paintings)\n",
    "\n",
    "#added remaining paintings to the list."
   ]
  },
  {
   "cell_type": "code",
   "execution_count": 24,
   "metadata": {},
   "outputs": [
    {
     "data": {
      "text/plain": [
       "7"
      ]
     },
     "execution_count": 24,
     "metadata": {},
     "output_type": "execute_result"
    }
   ],
   "source": [
    "len(paintings)"
   ]
  },
  {
   "cell_type": "code",
   "execution_count": 25,
   "metadata": {},
   "outputs": [],
   "source": [
    "audio_tour_number = [*range(1,8,1)]"
   ]
  },
  {
   "cell_type": "code",
   "execution_count": 26,
   "metadata": {},
   "outputs": [
    {
     "name": "stdout",
     "output_type": "stream",
     "text": [
      "[1, 2, 3, 4, 5, 6, 7]\n"
     ]
    }
   ],
   "source": [
    "print(audio_tour_number)\n",
    "\n",
    "#created list of identification numbers for each painting."
   ]
  },
  {
   "cell_type": "code",
   "execution_count": 27,
   "metadata": {},
   "outputs": [],
   "source": [
    "main_list = zip(paintings, audio_tour_number)\n",
    "\n",
    "#created object combining the paintings list with each of the corresponding audio ID numbers."
   ]
  },
  {
   "cell_type": "code",
   "execution_count": 28,
   "metadata": {},
   "outputs": [],
   "source": [
    "main_list = (list(main_list))\n",
    "\n",
    "#converted object into list."
   ]
  },
  {
   "cell_type": "code",
   "execution_count": 29,
   "metadata": {},
   "outputs": [
    {
     "name": "stdout",
     "output_type": "stream",
     "text": [
      "[((['The Two Fridas'], '1939'), 1), ((['My Dress Hangs Here'], '1933'), 2), ((['Tree of Hope'], '1946'), 3), ((['Self Portrait with Monkeys'], '1940'), 4), (('The Broken Column', '1944'), 5), (('The Wounded Deer', '1946'), 6), (('Me and My Doll', '1937'), 7)]\n"
     ]
    }
   ],
   "source": [
    "print(main_list)"
   ]
  }
 ],
 "metadata": {
  "kernelspec": {
   "display_name": "Python 3",
   "language": "python",
   "name": "python3"
  },
  "language_info": {
   "codemirror_mode": {
    "name": "ipython",
    "version": 3
   },
   "file_extension": ".py",
   "mimetype": "text/x-python",
   "name": "python",
   "nbconvert_exporter": "python",
   "pygments_lexer": "ipython3",
   "version": "3.6.8"
  }
 },
 "nbformat": 4,
 "nbformat_minor": 2
}
